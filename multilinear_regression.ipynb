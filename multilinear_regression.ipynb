{
  "nbformat": 4,
  "nbformat_minor": 0,
  "metadata": {
    "colab": {
      "provenance": [],
      "gpuType": "T4",
      "authorship_tag": "ABX9TyNSiCRVy3yNqSUs3wtrpHk9",
      "include_colab_link": true
    },
    "kernelspec": {
      "name": "python3",
      "display_name": "Python 3"
    },
    "language_info": {
      "name": "python"
    },
    "accelerator": "GPU"
  },
  "cells": [
    {
      "cell_type": "markdown",
      "metadata": {
        "id": "view-in-github",
        "colab_type": "text"
      },
      "source": [
        "<a href=\"https://colab.research.google.com/github/ElenaRomanovaCO/Create-DynamoDBTable-Using-CloudFormation/blob/main/multilinear_regression.ipynb\" target=\"_parent\"><img src=\"https://colab.research.google.com/assets/colab-badge.svg\" alt=\"Open In Colab\"/></a>"
      ]
    },
    {
      "cell_type": "code",
      "execution_count": null,
      "metadata": {
        "id": "qCC3zy2mbsSP"
      },
      "outputs": [],
      "source": []
    },
    {
      "cell_type": "markdown",
      "source": [
        "# importing library"
      ],
      "metadata": {
        "id": "MggL0RAVcOAi"
      }
    },
    {
      "cell_type": "code",
      "source": [
        "import numpy as np\n",
        "import matplotlib.pyplot as plt\n",
        "import pandas as pd"
      ],
      "metadata": {
        "id": "Bg7rLjIvcJMx"
      },
      "execution_count": 2,
      "outputs": []
    },
    {
      "cell_type": "markdown",
      "source": [
        "importing dataset as csv file"
      ],
      "metadata": {
        "id": "WoBHxVJJczGB"
      }
    },
    {
      "cell_type": "code",
      "source": [
        "dataset = pd.read_csv(\"covid_data.csv\")\n",
        "dataset\n",
        "X = dataset.iloc[:, :-1].values\n",
        "y = dataset.iloc[:, -1].values"
      ],
      "metadata": {
        "id": "lcgM0PYjco9x"
      },
      "execution_count": 5,
      "outputs": []
    },
    {
      "cell_type": "code",
      "source": [
        "dataset"
      ],
      "metadata": {
        "colab": {
          "base_uri": "https://localhost:8080/",
          "height": 423
        },
        "id": "YNt7lsxCdBZz",
        "outputId": "114746a8-dc09-43e1-c0b3-7d44b7892ae8"
      },
      "execution_count": 6,
      "outputs": [
        {
          "output_type": "execute_result",
          "data": {
            "text/plain": [
              "    age Body Temp  Chronic disease  Blood O2 Level in Percentage  Anti Bodies\n",
              "0    10  Moderate                0                            97       127181\n",
              "1    80      High                0                            92        61004\n",
              "2    10       Low                0                            97       111911\n",
              "3    81      High                4                            75        39010\n",
              "4    12  Moderate                0                            97       110911\n",
              "..  ...       ...              ...                           ...          ...\n",
              "65   76      High                4                            80        39010\n",
              "66   35  Moderate                0                            92        91141\n",
              "67   13  Moderate                0                            94       112101\n",
              "68   82      High                3                            73        42010\n",
              "69   84      High                3                            75        42099\n",
              "\n",
              "[70 rows x 5 columns]"
            ],
            "text/html": [
              "\n",
              "  <div id=\"df-76ed7bd8-b75a-4a5e-801f-57bc195c1e55\" class=\"colab-df-container\">\n",
              "    <div>\n",
              "<style scoped>\n",
              "    .dataframe tbody tr th:only-of-type {\n",
              "        vertical-align: middle;\n",
              "    }\n",
              "\n",
              "    .dataframe tbody tr th {\n",
              "        vertical-align: top;\n",
              "    }\n",
              "\n",
              "    .dataframe thead th {\n",
              "        text-align: right;\n",
              "    }\n",
              "</style>\n",
              "<table border=\"1\" class=\"dataframe\">\n",
              "  <thead>\n",
              "    <tr style=\"text-align: right;\">\n",
              "      <th></th>\n",
              "      <th>age</th>\n",
              "      <th>Body Temp</th>\n",
              "      <th>Chronic disease</th>\n",
              "      <th>Blood O2 Level in Percentage</th>\n",
              "      <th>Anti Bodies</th>\n",
              "    </tr>\n",
              "  </thead>\n",
              "  <tbody>\n",
              "    <tr>\n",
              "      <th>0</th>\n",
              "      <td>10</td>\n",
              "      <td>Moderate</td>\n",
              "      <td>0</td>\n",
              "      <td>97</td>\n",
              "      <td>127181</td>\n",
              "    </tr>\n",
              "    <tr>\n",
              "      <th>1</th>\n",
              "      <td>80</td>\n",
              "      <td>High</td>\n",
              "      <td>0</td>\n",
              "      <td>92</td>\n",
              "      <td>61004</td>\n",
              "    </tr>\n",
              "    <tr>\n",
              "      <th>2</th>\n",
              "      <td>10</td>\n",
              "      <td>Low</td>\n",
              "      <td>0</td>\n",
              "      <td>97</td>\n",
              "      <td>111911</td>\n",
              "    </tr>\n",
              "    <tr>\n",
              "      <th>3</th>\n",
              "      <td>81</td>\n",
              "      <td>High</td>\n",
              "      <td>4</td>\n",
              "      <td>75</td>\n",
              "      <td>39010</td>\n",
              "    </tr>\n",
              "    <tr>\n",
              "      <th>4</th>\n",
              "      <td>12</td>\n",
              "      <td>Moderate</td>\n",
              "      <td>0</td>\n",
              "      <td>97</td>\n",
              "      <td>110911</td>\n",
              "    </tr>\n",
              "    <tr>\n",
              "      <th>...</th>\n",
              "      <td>...</td>\n",
              "      <td>...</td>\n",
              "      <td>...</td>\n",
              "      <td>...</td>\n",
              "      <td>...</td>\n",
              "    </tr>\n",
              "    <tr>\n",
              "      <th>65</th>\n",
              "      <td>76</td>\n",
              "      <td>High</td>\n",
              "      <td>4</td>\n",
              "      <td>80</td>\n",
              "      <td>39010</td>\n",
              "    </tr>\n",
              "    <tr>\n",
              "      <th>66</th>\n",
              "      <td>35</td>\n",
              "      <td>Moderate</td>\n",
              "      <td>0</td>\n",
              "      <td>92</td>\n",
              "      <td>91141</td>\n",
              "    </tr>\n",
              "    <tr>\n",
              "      <th>67</th>\n",
              "      <td>13</td>\n",
              "      <td>Moderate</td>\n",
              "      <td>0</td>\n",
              "      <td>94</td>\n",
              "      <td>112101</td>\n",
              "    </tr>\n",
              "    <tr>\n",
              "      <th>68</th>\n",
              "      <td>82</td>\n",
              "      <td>High</td>\n",
              "      <td>3</td>\n",
              "      <td>73</td>\n",
              "      <td>42010</td>\n",
              "    </tr>\n",
              "    <tr>\n",
              "      <th>69</th>\n",
              "      <td>84</td>\n",
              "      <td>High</td>\n",
              "      <td>3</td>\n",
              "      <td>75</td>\n",
              "      <td>42099</td>\n",
              "    </tr>\n",
              "  </tbody>\n",
              "</table>\n",
              "<p>70 rows × 5 columns</p>\n",
              "</div>\n",
              "    <div class=\"colab-df-buttons\">\n",
              "\n",
              "  <div class=\"colab-df-container\">\n",
              "    <button class=\"colab-df-convert\" onclick=\"convertToInteractive('df-76ed7bd8-b75a-4a5e-801f-57bc195c1e55')\"\n",
              "            title=\"Convert this dataframe to an interactive table.\"\n",
              "            style=\"display:none;\">\n",
              "\n",
              "  <svg xmlns=\"http://www.w3.org/2000/svg\" height=\"24px\" viewBox=\"0 -960 960 960\">\n",
              "    <path d=\"M120-120v-720h720v720H120Zm60-500h600v-160H180v160Zm220 220h160v-160H400v160Zm0 220h160v-160H400v160ZM180-400h160v-160H180v160Zm440 0h160v-160H620v160ZM180-180h160v-160H180v160Zm440 0h160v-160H620v160Z\"/>\n",
              "  </svg>\n",
              "    </button>\n",
              "\n",
              "  <style>\n",
              "    .colab-df-container {\n",
              "      display:flex;\n",
              "      gap: 12px;\n",
              "    }\n",
              "\n",
              "    .colab-df-convert {\n",
              "      background-color: #E8F0FE;\n",
              "      border: none;\n",
              "      border-radius: 50%;\n",
              "      cursor: pointer;\n",
              "      display: none;\n",
              "      fill: #1967D2;\n",
              "      height: 32px;\n",
              "      padding: 0 0 0 0;\n",
              "      width: 32px;\n",
              "    }\n",
              "\n",
              "    .colab-df-convert:hover {\n",
              "      background-color: #E2EBFA;\n",
              "      box-shadow: 0px 1px 2px rgba(60, 64, 67, 0.3), 0px 1px 3px 1px rgba(60, 64, 67, 0.15);\n",
              "      fill: #174EA6;\n",
              "    }\n",
              "\n",
              "    .colab-df-buttons div {\n",
              "      margin-bottom: 4px;\n",
              "    }\n",
              "\n",
              "    [theme=dark] .colab-df-convert {\n",
              "      background-color: #3B4455;\n",
              "      fill: #D2E3FC;\n",
              "    }\n",
              "\n",
              "    [theme=dark] .colab-df-convert:hover {\n",
              "      background-color: #434B5C;\n",
              "      box-shadow: 0px 1px 3px 1px rgba(0, 0, 0, 0.15);\n",
              "      filter: drop-shadow(0px 1px 2px rgba(0, 0, 0, 0.3));\n",
              "      fill: #FFFFFF;\n",
              "    }\n",
              "  </style>\n",
              "\n",
              "    <script>\n",
              "      const buttonEl =\n",
              "        document.querySelector('#df-76ed7bd8-b75a-4a5e-801f-57bc195c1e55 button.colab-df-convert');\n",
              "      buttonEl.style.display =\n",
              "        google.colab.kernel.accessAllowed ? 'block' : 'none';\n",
              "\n",
              "      async function convertToInteractive(key) {\n",
              "        const element = document.querySelector('#df-76ed7bd8-b75a-4a5e-801f-57bc195c1e55');\n",
              "        const dataTable =\n",
              "          await google.colab.kernel.invokeFunction('convertToInteractive',\n",
              "                                                    [key], {});\n",
              "        if (!dataTable) return;\n",
              "\n",
              "        const docLinkHtml = 'Like what you see? Visit the ' +\n",
              "          '<a target=\"_blank\" href=https://colab.research.google.com/notebooks/data_table.ipynb>data table notebook</a>'\n",
              "          + ' to learn more about interactive tables.';\n",
              "        element.innerHTML = '';\n",
              "        dataTable['output_type'] = 'display_data';\n",
              "        await google.colab.output.renderOutput(dataTable, element);\n",
              "        const docLink = document.createElement('div');\n",
              "        docLink.innerHTML = docLinkHtml;\n",
              "        element.appendChild(docLink);\n",
              "      }\n",
              "    </script>\n",
              "  </div>\n",
              "\n",
              "\n",
              "<div id=\"df-719450de-c6c5-4ecd-a06a-94737f3c2a28\">\n",
              "  <button class=\"colab-df-quickchart\" onclick=\"quickchart('df-719450de-c6c5-4ecd-a06a-94737f3c2a28')\"\n",
              "            title=\"Suggest charts\"\n",
              "            style=\"display:none;\">\n",
              "\n",
              "<svg xmlns=\"http://www.w3.org/2000/svg\" height=\"24px\"viewBox=\"0 0 24 24\"\n",
              "     width=\"24px\">\n",
              "    <g>\n",
              "        <path d=\"M19 3H5c-1.1 0-2 .9-2 2v14c0 1.1.9 2 2 2h14c1.1 0 2-.9 2-2V5c0-1.1-.9-2-2-2zM9 17H7v-7h2v7zm4 0h-2V7h2v10zm4 0h-2v-4h2v4z\"/>\n",
              "    </g>\n",
              "</svg>\n",
              "  </button>\n",
              "\n",
              "<style>\n",
              "  .colab-df-quickchart {\n",
              "      --bg-color: #E8F0FE;\n",
              "      --fill-color: #1967D2;\n",
              "      --hover-bg-color: #E2EBFA;\n",
              "      --hover-fill-color: #174EA6;\n",
              "      --disabled-fill-color: #AAA;\n",
              "      --disabled-bg-color: #DDD;\n",
              "  }\n",
              "\n",
              "  [theme=dark] .colab-df-quickchart {\n",
              "      --bg-color: #3B4455;\n",
              "      --fill-color: #D2E3FC;\n",
              "      --hover-bg-color: #434B5C;\n",
              "      --hover-fill-color: #FFFFFF;\n",
              "      --disabled-bg-color: #3B4455;\n",
              "      --disabled-fill-color: #666;\n",
              "  }\n",
              "\n",
              "  .colab-df-quickchart {\n",
              "    background-color: var(--bg-color);\n",
              "    border: none;\n",
              "    border-radius: 50%;\n",
              "    cursor: pointer;\n",
              "    display: none;\n",
              "    fill: var(--fill-color);\n",
              "    height: 32px;\n",
              "    padding: 0;\n",
              "    width: 32px;\n",
              "  }\n",
              "\n",
              "  .colab-df-quickchart:hover {\n",
              "    background-color: var(--hover-bg-color);\n",
              "    box-shadow: 0 1px 2px rgba(60, 64, 67, 0.3), 0 1px 3px 1px rgba(60, 64, 67, 0.15);\n",
              "    fill: var(--button-hover-fill-color);\n",
              "  }\n",
              "\n",
              "  .colab-df-quickchart-complete:disabled,\n",
              "  .colab-df-quickchart-complete:disabled:hover {\n",
              "    background-color: var(--disabled-bg-color);\n",
              "    fill: var(--disabled-fill-color);\n",
              "    box-shadow: none;\n",
              "  }\n",
              "\n",
              "  .colab-df-spinner {\n",
              "    border: 2px solid var(--fill-color);\n",
              "    border-color: transparent;\n",
              "    border-bottom-color: var(--fill-color);\n",
              "    animation:\n",
              "      spin 1s steps(1) infinite;\n",
              "  }\n",
              "\n",
              "  @keyframes spin {\n",
              "    0% {\n",
              "      border-color: transparent;\n",
              "      border-bottom-color: var(--fill-color);\n",
              "      border-left-color: var(--fill-color);\n",
              "    }\n",
              "    20% {\n",
              "      border-color: transparent;\n",
              "      border-left-color: var(--fill-color);\n",
              "      border-top-color: var(--fill-color);\n",
              "    }\n",
              "    30% {\n",
              "      border-color: transparent;\n",
              "      border-left-color: var(--fill-color);\n",
              "      border-top-color: var(--fill-color);\n",
              "      border-right-color: var(--fill-color);\n",
              "    }\n",
              "    40% {\n",
              "      border-color: transparent;\n",
              "      border-right-color: var(--fill-color);\n",
              "      border-top-color: var(--fill-color);\n",
              "    }\n",
              "    60% {\n",
              "      border-color: transparent;\n",
              "      border-right-color: var(--fill-color);\n",
              "    }\n",
              "    80% {\n",
              "      border-color: transparent;\n",
              "      border-right-color: var(--fill-color);\n",
              "      border-bottom-color: var(--fill-color);\n",
              "    }\n",
              "    90% {\n",
              "      border-color: transparent;\n",
              "      border-bottom-color: var(--fill-color);\n",
              "    }\n",
              "  }\n",
              "</style>\n",
              "\n",
              "  <script>\n",
              "    async function quickchart(key) {\n",
              "      const quickchartButtonEl =\n",
              "        document.querySelector('#' + key + ' button');\n",
              "      quickchartButtonEl.disabled = true;  // To prevent multiple clicks.\n",
              "      quickchartButtonEl.classList.add('colab-df-spinner');\n",
              "      try {\n",
              "        const charts = await google.colab.kernel.invokeFunction(\n",
              "            'suggestCharts', [key], {});\n",
              "      } catch (error) {\n",
              "        console.error('Error during call to suggestCharts:', error);\n",
              "      }\n",
              "      quickchartButtonEl.classList.remove('colab-df-spinner');\n",
              "      quickchartButtonEl.classList.add('colab-df-quickchart-complete');\n",
              "    }\n",
              "    (() => {\n",
              "      let quickchartButtonEl =\n",
              "        document.querySelector('#df-719450de-c6c5-4ecd-a06a-94737f3c2a28 button');\n",
              "      quickchartButtonEl.style.display =\n",
              "        google.colab.kernel.accessAllowed ? 'block' : 'none';\n",
              "    })();\n",
              "  </script>\n",
              "</div>\n",
              "\n",
              "  <div id=\"id_8d255e90-3749-41ff-bea2-d6576671018e\">\n",
              "    <style>\n",
              "      .colab-df-generate {\n",
              "        background-color: #E8F0FE;\n",
              "        border: none;\n",
              "        border-radius: 50%;\n",
              "        cursor: pointer;\n",
              "        display: none;\n",
              "        fill: #1967D2;\n",
              "        height: 32px;\n",
              "        padding: 0 0 0 0;\n",
              "        width: 32px;\n",
              "      }\n",
              "\n",
              "      .colab-df-generate:hover {\n",
              "        background-color: #E2EBFA;\n",
              "        box-shadow: 0px 1px 2px rgba(60, 64, 67, 0.3), 0px 1px 3px 1px rgba(60, 64, 67, 0.15);\n",
              "        fill: #174EA6;\n",
              "      }\n",
              "\n",
              "      [theme=dark] .colab-df-generate {\n",
              "        background-color: #3B4455;\n",
              "        fill: #D2E3FC;\n",
              "      }\n",
              "\n",
              "      [theme=dark] .colab-df-generate:hover {\n",
              "        background-color: #434B5C;\n",
              "        box-shadow: 0px 1px 3px 1px rgba(0, 0, 0, 0.15);\n",
              "        filter: drop-shadow(0px 1px 2px rgba(0, 0, 0, 0.3));\n",
              "        fill: #FFFFFF;\n",
              "      }\n",
              "    </style>\n",
              "    <button class=\"colab-df-generate\" onclick=\"generateWithVariable('dataset')\"\n",
              "            title=\"Generate code using this dataframe.\"\n",
              "            style=\"display:none;\">\n",
              "\n",
              "  <svg xmlns=\"http://www.w3.org/2000/svg\" height=\"24px\"viewBox=\"0 0 24 24\"\n",
              "       width=\"24px\">\n",
              "    <path d=\"M7,19H8.4L18.45,9,17,7.55,7,17.6ZM5,21V16.75L18.45,3.32a2,2,0,0,1,2.83,0l1.4,1.43a1.91,1.91,0,0,1,.58,1.4,1.91,1.91,0,0,1-.58,1.4L9.25,21ZM18.45,9,17,7.55Zm-12,3A5.31,5.31,0,0,0,4.9,8.1,5.31,5.31,0,0,0,1,6.5,5.31,5.31,0,0,0,4.9,4.9,5.31,5.31,0,0,0,6.5,1,5.31,5.31,0,0,0,8.1,4.9,5.31,5.31,0,0,0,12,6.5,5.46,5.46,0,0,0,6.5,12Z\"/>\n",
              "  </svg>\n",
              "    </button>\n",
              "    <script>\n",
              "      (() => {\n",
              "      const buttonEl =\n",
              "        document.querySelector('#id_8d255e90-3749-41ff-bea2-d6576671018e button.colab-df-generate');\n",
              "      buttonEl.style.display =\n",
              "        google.colab.kernel.accessAllowed ? 'block' : 'none';\n",
              "\n",
              "      buttonEl.onclick = () => {\n",
              "        google.colab.notebook.generateWithVariable('dataset');\n",
              "      }\n",
              "      })();\n",
              "    </script>\n",
              "  </div>\n",
              "\n",
              "    </div>\n",
              "  </div>\n"
            ]
          },
          "metadata": {},
          "execution_count": 6
        }
      ]
    },
    {
      "cell_type": "markdown",
      "source": [
        "encoding categorical data - body temp column from string to set of flot values: 0.0, 0.0, 0.1 - (high, low, moderate)"
      ],
      "metadata": {
        "id": "pWX40ZVWfLy6"
      }
    },
    {
      "cell_type": "code",
      "source": [
        "from sklearn.compose import ColumnTransformer\n",
        "from sklearn.preprocessing import OneHotEncoder\n",
        "ct = ColumnTransformer(transformers = [('encoder', OneHotEncoder(),[1])], remainder = 'passthrough')\n",
        "X = np.array(ct.fit_transform(X))"
      ],
      "metadata": {
        "id": "44BfetWndhLX"
      },
      "execution_count": 7,
      "outputs": []
    },
    {
      "cell_type": "code",
      "source": [
        "X"
      ],
      "metadata": {
        "colab": {
          "base_uri": "https://localhost:8080/"
        },
        "id": "G9NHSoBHdoB6",
        "outputId": "5f6e7681-a5a7-4067-8d13-73f3dc94c651"
      },
      "execution_count": 8,
      "outputs": [
        {
          "output_type": "execute_result",
          "data": {
            "text/plain": [
              "array([[0.0, 0.0, 1.0, 10, 0, 97],\n",
              "       [1.0, 0.0, 0.0, 80, 0, 92],\n",
              "       [0.0, 1.0, 0.0, 10, 0, 97],\n",
              "       [1.0, 0.0, 0.0, 81, 4, 75],\n",
              "       [0.0, 0.0, 1.0, 12, 0, 97],\n",
              "       [0.0, 1.0, 0.0, 18, 0, 66],\n",
              "       [0.0, 0.0, 1.0, 13, 0, 93],\n",
              "       [1.0, 0.0, 0.0, 94, 4, 64],\n",
              "       [1.0, 0.0, 0.0, 86, 2, 76],\n",
              "       [0.0, 0.0, 1.0, 20, 0, 92],\n",
              "       [0.0, 0.0, 1.0, 15, 0, 94],\n",
              "       [0.0, 0.0, 1.0, 15, 0, 92],\n",
              "       [0.0, 1.0, 0.0, 16, 0, 92],\n",
              "       [0.0, 0.0, 1.0, 17, 0, 93],\n",
              "       [0.0, 0.0, 1.0, 18, 0, 93],\n",
              "       [0.0, 0.0, 1.0, 19, 0, 92],\n",
              "       [0.0, 0.0, 1.0, 19, 0, 89],\n",
              "       [0.0, 0.0, 1.0, 12, 0, 97],\n",
              "       [0.0, 0.0, 1.0, 20, 0, 93],\n",
              "       [0.0, 0.0, 1.0, 24, 0, 92],\n",
              "       [0.0, 0.0, 1.0, 25, 0, 93],\n",
              "       [1.0, 0.0, 0.0, 59, 2, 68],\n",
              "       [1.0, 0.0, 0.0, 63, 1, 66],\n",
              "       [0.0, 0.0, 1.0, 25, 1, 62],\n",
              "       [1.0, 0.0, 0.0, 26, 0, 94],\n",
              "       [0.0, 1.0, 0.0, 26, 0, 97],\n",
              "       [0.0, 0.0, 1.0, 28, 0, 99],\n",
              "       [1.0, 0.0, 0.0, 59, 0, 69],\n",
              "       [0.0, 0.0, 1.0, 28, 0, 89],\n",
              "       [0.0, 0.0, 1.0, 29, 0, 93],\n",
              "       [0.0, 0.0, 1.0, 48, 0, 93],\n",
              "       [0.0, 0.0, 1.0, 30, 0, 62],\n",
              "       [0.0, 0.0, 1.0, 30, 0, 86],\n",
              "       [0.0, 0.0, 1.0, 32, 0, 84],\n",
              "       [0.0, 0.0, 1.0, 34, 1, 90],\n",
              "       [0.0, 0.0, 1.0, 35, 0, 89],\n",
              "       [1.0, 0.0, 0.0, 50, 2, 77],\n",
              "       [1.0, 0.0, 0.0, 56, 2, 76],\n",
              "       [1.0, 0.0, 0.0, 56, 1, 77],\n",
              "       [1.0, 0.0, 0.0, 36, 1, 90],\n",
              "       [1.0, 0.0, 0.0, 38, 2, 75],\n",
              "       [0.0, 0.0, 1.0, 40, 0, 90],\n",
              "       [1.0, 0.0, 0.0, 40, 0, 92],\n",
              "       [1.0, 0.0, 0.0, 61, 2, 76],\n",
              "       [1.0, 0.0, 0.0, 42, 0, 92],\n",
              "       [1.0, 0.0, 0.0, 46, 0, 91],\n",
              "       [0.0, 0.0, 1.0, 49, 0, 80],\n",
              "       [1.0, 0.0, 0.0, 52, 1, 80],\n",
              "       [0.0, 0.0, 1.0, 32, 0, 89],\n",
              "       [1.0, 0.0, 0.0, 53, 1, 55],\n",
              "       [1.0, 0.0, 0.0, 54, 1, 70],\n",
              "       [1.0, 0.0, 0.0, 90, 3, 67],\n",
              "       [1.0, 0.0, 0.0, 78, 2, 71],\n",
              "       [1.0, 0.0, 0.0, 58, 0, 70],\n",
              "       [1.0, 0.0, 0.0, 60, 1, 68],\n",
              "       [0.0, 0.0, 1.0, 61, 0, 90],\n",
              "       [1.0, 0.0, 0.0, 62, 1, 68],\n",
              "       [1.0, 0.0, 0.0, 86, 3, 71],\n",
              "       [1.0, 0.0, 0.0, 62, 2, 69],\n",
              "       [1.0, 0.0, 0.0, 64, 1, 73],\n",
              "       [1.0, 0.0, 0.0, 68, 1, 67],\n",
              "       [1.0, 0.0, 0.0, 69, 0, 53],\n",
              "       [0.0, 0.0, 1.0, 70, 1, 88],\n",
              "       [1.0, 0.0, 0.0, 74, 2, 75],\n",
              "       [1.0, 0.0, 0.0, 75, 1, 72],\n",
              "       [1.0, 0.0, 0.0, 76, 4, 80],\n",
              "       [0.0, 0.0, 1.0, 35, 0, 92],\n",
              "       [0.0, 0.0, 1.0, 13, 0, 94],\n",
              "       [1.0, 0.0, 0.0, 82, 3, 73],\n",
              "       [1.0, 0.0, 0.0, 84, 3, 75]], dtype=object)"
            ]
          },
          "metadata": {},
          "execution_count": 8
        }
      ]
    },
    {
      "cell_type": "markdown",
      "source": [
        "splitting data set into training and validation data sets"
      ],
      "metadata": {
        "id": "lwuR7kubfhUu"
      }
    },
    {
      "cell_type": "code",
      "source": [
        "from sklearn.model_selection import train_test_split\n",
        "X_train, X_test, y_train, y_test = train_test_split(X, y, test_size = 0.4, random_state = 0)"
      ],
      "metadata": {
        "id": "YQgrGqMLfdHW"
      },
      "execution_count": 9,
      "outputs": []
    },
    {
      "cell_type": "code",
      "source": [
        "X_train"
      ],
      "metadata": {
        "colab": {
          "base_uri": "https://localhost:8080/"
        },
        "id": "TCfB2sOJfsgA",
        "outputId": "a88736d3-0d84-4489-f828-a52d5a73fbc3"
      },
      "execution_count": 10,
      "outputs": [
        {
          "output_type": "execute_result",
          "data": {
            "text/plain": [
              "array([[0.0, 0.0, 1.0, 15, 0, 94],\n",
              "       [0.0, 0.0, 1.0, 40, 0, 90],\n",
              "       [1.0, 0.0, 0.0, 53, 1, 55],\n",
              "       [1.0, 0.0, 0.0, 58, 0, 70],\n",
              "       [1.0, 0.0, 0.0, 86, 3, 71],\n",
              "       [0.0, 0.0, 1.0, 30, 0, 86],\n",
              "       [0.0, 0.0, 1.0, 18, 0, 93],\n",
              "       [0.0, 0.0, 1.0, 13, 0, 94],\n",
              "       [0.0, 0.0, 1.0, 24, 0, 92],\n",
              "       [0.0, 0.0, 1.0, 29, 0, 93],\n",
              "       [1.0, 0.0, 0.0, 78, 2, 71],\n",
              "       [0.0, 0.0, 1.0, 35, 0, 89],\n",
              "       [0.0, 0.0, 1.0, 20, 0, 93],\n",
              "       [0.0, 0.0, 1.0, 10, 0, 97],\n",
              "       [0.0, 0.0, 1.0, 19, 0, 92],\n",
              "       [0.0, 1.0, 0.0, 18, 0, 66],\n",
              "       [0.0, 0.0, 1.0, 19, 0, 89],\n",
              "       [0.0, 0.0, 1.0, 25, 0, 93],\n",
              "       [0.0, 0.0, 1.0, 35, 0, 92],\n",
              "       [1.0, 0.0, 0.0, 86, 2, 76],\n",
              "       [0.0, 0.0, 1.0, 17, 0, 93],\n",
              "       [0.0, 1.0, 0.0, 26, 0, 97],\n",
              "       [1.0, 0.0, 0.0, 56, 2, 76],\n",
              "       [0.0, 0.0, 1.0, 12, 0, 97],\n",
              "       [1.0, 0.0, 0.0, 68, 1, 67],\n",
              "       [0.0, 0.0, 1.0, 49, 0, 80],\n",
              "       [1.0, 0.0, 0.0, 74, 2, 75],\n",
              "       [1.0, 0.0, 0.0, 36, 1, 90],\n",
              "       [1.0, 0.0, 0.0, 56, 1, 77],\n",
              "       [1.0, 0.0, 0.0, 80, 0, 92],\n",
              "       [1.0, 0.0, 0.0, 62, 2, 69],\n",
              "       [0.0, 1.0, 0.0, 16, 0, 92],\n",
              "       [1.0, 0.0, 0.0, 69, 0, 53],\n",
              "       [1.0, 0.0, 0.0, 26, 0, 94],\n",
              "       [0.0, 0.0, 1.0, 13, 0, 93],\n",
              "       [0.0, 0.0, 1.0, 25, 1, 62],\n",
              "       [1.0, 0.0, 0.0, 50, 2, 77],\n",
              "       [1.0, 0.0, 0.0, 59, 2, 68],\n",
              "       [0.0, 0.0, 1.0, 20, 0, 92],\n",
              "       [1.0, 0.0, 0.0, 75, 1, 72],\n",
              "       [1.0, 0.0, 0.0, 52, 1, 80],\n",
              "       [1.0, 0.0, 0.0, 42, 0, 92]], dtype=object)"
            ]
          },
          "metadata": {},
          "execution_count": 10
        }
      ]
    },
    {
      "cell_type": "code",
      "source": [
        "y_train"
      ],
      "metadata": {
        "colab": {
          "base_uri": "https://localhost:8080/"
        },
        "id": "CtFwszDwftD9",
        "outputId": "e01ec7c2-f9a8-4e7e-dcbe-c45045ca94c1"
      },
      "execution_count": 11,
      "outputs": [
        {
          "output_type": "execute_result",
          "data": {
            "text/plain": [
              "array([101000,  87019,  50104,  63091,  41891,  91002,  99004, 112101,\n",
              "        95202,  92101,  52001,  90124,  97101, 127181,  98191,  99110,\n",
              "        98081,  95010,  91141,  45019,  99910,  99008,  60801, 110911,\n",
              "        59010,  77010,  58010,  90191,  67010,  61004,  56095, 100000,\n",
              "        59913,  92010, 110101,  78010,  71019,  61002,  98101,  57019,\n",
              "        73010,  87005])"
            ]
          },
          "metadata": {},
          "execution_count": 11
        }
      ]
    },
    {
      "cell_type": "code",
      "source": [
        "X_test"
      ],
      "metadata": {
        "colab": {
          "base_uri": "https://localhost:8080/"
        },
        "id": "rQyQyDF3f38P",
        "outputId": "dd253539-6a27-4db9-cc69-a60369f323b6"
      },
      "execution_count": 12,
      "outputs": [
        {
          "output_type": "execute_result",
          "data": {
            "text/plain": [
              "array([[0.0, 0.0, 1.0, 28, 0, 99],\n",
              "       [1.0, 0.0, 0.0, 59, 0, 69],\n",
              "       [0.0, 0.0, 1.0, 32, 0, 89],\n",
              "       [1.0, 0.0, 0.0, 63, 1, 66],\n",
              "       [0.0, 0.0, 1.0, 48, 0, 93],\n",
              "       [1.0, 0.0, 0.0, 90, 3, 67],\n",
              "       [1.0, 0.0, 0.0, 94, 4, 64],\n",
              "       [1.0, 0.0, 0.0, 64, 1, 73],\n",
              "       [0.0, 0.0, 1.0, 34, 1, 90],\n",
              "       [1.0, 0.0, 0.0, 84, 3, 75],\n",
              "       [1.0, 0.0, 0.0, 62, 1, 68],\n",
              "       [0.0, 0.0, 1.0, 28, 0, 89],\n",
              "       [0.0, 0.0, 1.0, 30, 0, 62],\n",
              "       [1.0, 0.0, 0.0, 40, 0, 92],\n",
              "       [0.0, 0.0, 1.0, 32, 0, 84],\n",
              "       [0.0, 0.0, 1.0, 61, 0, 90],\n",
              "       [1.0, 0.0, 0.0, 82, 3, 73],\n",
              "       [0.0, 0.0, 1.0, 70, 1, 88],\n",
              "       [1.0, 0.0, 0.0, 61, 2, 76],\n",
              "       [0.0, 0.0, 1.0, 12, 0, 97],\n",
              "       [1.0, 0.0, 0.0, 76, 4, 80],\n",
              "       [1.0, 0.0, 0.0, 54, 1, 70],\n",
              "       [0.0, 1.0, 0.0, 10, 0, 97],\n",
              "       [1.0, 0.0, 0.0, 38, 2, 75],\n",
              "       [0.0, 0.0, 1.0, 15, 0, 92],\n",
              "       [1.0, 0.0, 0.0, 81, 4, 75],\n",
              "       [1.0, 0.0, 0.0, 60, 1, 68],\n",
              "       [1.0, 0.0, 0.0, 46, 0, 91]], dtype=object)"
            ]
          },
          "metadata": {},
          "execution_count": 12
        }
      ]
    },
    {
      "cell_type": "code",
      "source": [
        "y_test"
      ],
      "metadata": {
        "colab": {
          "base_uri": "https://localhost:8080/"
        },
        "id": "64JBHnkaf8ic",
        "outputId": "b1465427-1d36-401e-e7ed-a1b2f18a641b"
      },
      "execution_count": 13,
      "outputs": [
        {
          "output_type": "execute_result",
          "data": {
            "text/plain": [
              "array([ 93010,  66019,  91019,  59994,  83891,  46016,  37914,  62001,\n",
              "        90001,  42099,  61018,  93091,  75012,  88012,  90015,  71191,\n",
              "        42010,  67019,  62019, 110911,  39010,  61082, 111911,  78004,\n",
              "       102019,  39010,  62019,  84008])"
            ]
          },
          "metadata": {},
          "execution_count": 13
        }
      ]
    },
    {
      "cell_type": "code",
      "source": [
        "from sklearn.linear_model import LinearRegression\n",
        "regressor = LinearRegression()\n",
        "regressor.fit(X_train, y_train)"
      ],
      "metadata": {
        "colab": {
          "base_uri": "https://localhost:8080/",
          "height": 74
        },
        "id": "EypWb1o5gF2b",
        "outputId": "6e81b8f8-7d00-44a5-c1da-80d188137cac"
      },
      "execution_count": 14,
      "outputs": [
        {
          "output_type": "execute_result",
          "data": {
            "text/plain": [
              "LinearRegression()"
            ],
            "text/html": [
              "<style>#sk-container-id-1 {color: black;background-color: white;}#sk-container-id-1 pre{padding: 0;}#sk-container-id-1 div.sk-toggleable {background-color: white;}#sk-container-id-1 label.sk-toggleable__label {cursor: pointer;display: block;width: 100%;margin-bottom: 0;padding: 0.3em;box-sizing: border-box;text-align: center;}#sk-container-id-1 label.sk-toggleable__label-arrow:before {content: \"▸\";float: left;margin-right: 0.25em;color: #696969;}#sk-container-id-1 label.sk-toggleable__label-arrow:hover:before {color: black;}#sk-container-id-1 div.sk-estimator:hover label.sk-toggleable__label-arrow:before {color: black;}#sk-container-id-1 div.sk-toggleable__content {max-height: 0;max-width: 0;overflow: hidden;text-align: left;background-color: #f0f8ff;}#sk-container-id-1 div.sk-toggleable__content pre {margin: 0.2em;color: black;border-radius: 0.25em;background-color: #f0f8ff;}#sk-container-id-1 input.sk-toggleable__control:checked~div.sk-toggleable__content {max-height: 200px;max-width: 100%;overflow: auto;}#sk-container-id-1 input.sk-toggleable__control:checked~label.sk-toggleable__label-arrow:before {content: \"▾\";}#sk-container-id-1 div.sk-estimator input.sk-toggleable__control:checked~label.sk-toggleable__label {background-color: #d4ebff;}#sk-container-id-1 div.sk-label input.sk-toggleable__control:checked~label.sk-toggleable__label {background-color: #d4ebff;}#sk-container-id-1 input.sk-hidden--visually {border: 0;clip: rect(1px 1px 1px 1px);clip: rect(1px, 1px, 1px, 1px);height: 1px;margin: -1px;overflow: hidden;padding: 0;position: absolute;width: 1px;}#sk-container-id-1 div.sk-estimator {font-family: monospace;background-color: #f0f8ff;border: 1px dotted black;border-radius: 0.25em;box-sizing: border-box;margin-bottom: 0.5em;}#sk-container-id-1 div.sk-estimator:hover {background-color: #d4ebff;}#sk-container-id-1 div.sk-parallel-item::after {content: \"\";width: 100%;border-bottom: 1px solid gray;flex-grow: 1;}#sk-container-id-1 div.sk-label:hover label.sk-toggleable__label {background-color: #d4ebff;}#sk-container-id-1 div.sk-serial::before {content: \"\";position: absolute;border-left: 1px solid gray;box-sizing: border-box;top: 0;bottom: 0;left: 50%;z-index: 0;}#sk-container-id-1 div.sk-serial {display: flex;flex-direction: column;align-items: center;background-color: white;padding-right: 0.2em;padding-left: 0.2em;position: relative;}#sk-container-id-1 div.sk-item {position: relative;z-index: 1;}#sk-container-id-1 div.sk-parallel {display: flex;align-items: stretch;justify-content: center;background-color: white;position: relative;}#sk-container-id-1 div.sk-item::before, #sk-container-id-1 div.sk-parallel-item::before {content: \"\";position: absolute;border-left: 1px solid gray;box-sizing: border-box;top: 0;bottom: 0;left: 50%;z-index: -1;}#sk-container-id-1 div.sk-parallel-item {display: flex;flex-direction: column;z-index: 1;position: relative;background-color: white;}#sk-container-id-1 div.sk-parallel-item:first-child::after {align-self: flex-end;width: 50%;}#sk-container-id-1 div.sk-parallel-item:last-child::after {align-self: flex-start;width: 50%;}#sk-container-id-1 div.sk-parallel-item:only-child::after {width: 0;}#sk-container-id-1 div.sk-dashed-wrapped {border: 1px dashed gray;margin: 0 0.4em 0.5em 0.4em;box-sizing: border-box;padding-bottom: 0.4em;background-color: white;}#sk-container-id-1 div.sk-label label {font-family: monospace;font-weight: bold;display: inline-block;line-height: 1.2em;}#sk-container-id-1 div.sk-label-container {text-align: center;}#sk-container-id-1 div.sk-container {/* jupyter's `normalize.less` sets `[hidden] { display: none; }` but bootstrap.min.css set `[hidden] { display: none !important; }` so we also need the `!important` here to be able to override the default hidden behavior on the sphinx rendered scikit-learn.org. See: https://github.com/scikit-learn/scikit-learn/issues/21755 */display: inline-block !important;position: relative;}#sk-container-id-1 div.sk-text-repr-fallback {display: none;}</style><div id=\"sk-container-id-1\" class=\"sk-top-container\"><div class=\"sk-text-repr-fallback\"><pre>LinearRegression()</pre><b>In a Jupyter environment, please rerun this cell to show the HTML representation or trust the notebook. <br />On GitHub, the HTML representation is unable to render, please try loading this page with nbviewer.org.</b></div><div class=\"sk-container\" hidden><div class=\"sk-item\"><div class=\"sk-estimator sk-toggleable\"><input class=\"sk-toggleable__control sk-hidden--visually\" id=\"sk-estimator-id-1\" type=\"checkbox\" checked><label for=\"sk-estimator-id-1\" class=\"sk-toggleable__label sk-toggleable__label-arrow\">LinearRegression</label><div class=\"sk-toggleable__content\"><pre>LinearRegression()</pre></div></div></div></div></div>"
            ]
          },
          "metadata": {},
          "execution_count": 14
        }
      ]
    },
    {
      "cell_type": "code",
      "source": [
        "y_pred = regressor.predict(X_test)\n",
        "np.set_printoptions(precision= 3)\n",
        "print(np.concatenate((y_pred.reshape(len(y_pred), 1), y_test.reshape(len(y_test),1)), 1))"
      ],
      "metadata": {
        "colab": {
          "base_uri": "https://localhost:8080/"
        },
        "id": "Gd3fiJWMgh_d",
        "outputId": "e7eead98-387f-476b-a866-ea2748215bd0"
      },
      "execution_count": 15,
      "outputs": [
        {
          "output_type": "stream",
          "name": "stdout",
          "text": [
            "[[ 98523.191  93010.   ]\n",
            " [ 65402.264  66019.   ]\n",
            " [ 91633.957  91019.   ]\n",
            " [ 59006.199  59994.   ]\n",
            " [ 83371.86   83891.   ]\n",
            " [ 37389.494  46016.   ]\n",
            " [ 30993.428  37914.   ]\n",
            " [ 61449.821  62001.   ]\n",
            " [ 88243.989  90001.   ]\n",
            " [ 44653.711  42099.   ]\n",
            " [ 60509.248  61018.   ]\n",
            " [ 94138.001  93091.   ]\n",
            " [ 81045.966  75012.   ]\n",
            " [ 87382.408  88012.   ]\n",
            " [ 89441.362  90015.   ]\n",
            " [ 73918.161  71191.   ]\n",
            " [ 45028.695  42010.   ]\n",
            " [ 64830.56   67019.   ]\n",
            " [ 62066.945  62019.   ]\n",
            " [107662.326 110911.   ]\n",
            " [ 49277.928  39010.   ]\n",
            " [ 66394.372  61082.   ]\n",
            " [110895.003 111911.   ]\n",
            " [ 76026.676  78004.   ]\n",
            " [103591.699 102019.   ]\n",
            " [ 43955.278  39010.   ]\n",
            " [ 61761.269  62019.   ]\n",
            " [ 83187.824  84008.   ]]\n"
          ]
        }
      ]
    },
    {
      "cell_type": "code",
      "source": [
        "from sklearn.metrics import accuracy_score\n",
        "accuracy = accuracy_score(y_test, y_pred)\n",
        "print(f'Accuracy: {accuracy}')"
      ],
      "metadata": {
        "colab": {
          "base_uri": "https://localhost:8080/",
          "height": 408
        },
        "id": "9tQOidAgg47H",
        "outputId": "c4b25f84-5942-4c77-9048-5c1f4b196d03"
      },
      "execution_count": 18,
      "outputs": [
        {
          "output_type": "error",
          "ename": "ValueError",
          "evalue": "Classification metrics can't handle a mix of multiclass and continuous targets",
          "traceback": [
            "\u001b[0;31m---------------------------------------------------------------------------\u001b[0m",
            "\u001b[0;31mValueError\u001b[0m                                Traceback (most recent call last)",
            "\u001b[0;32m<ipython-input-18-7d33249bfe21>\u001b[0m in \u001b[0;36m<cell line: 2>\u001b[0;34m()\u001b[0m\n\u001b[1;32m      1\u001b[0m \u001b[0;32mfrom\u001b[0m \u001b[0msklearn\u001b[0m\u001b[0;34m.\u001b[0m\u001b[0mmetrics\u001b[0m \u001b[0;32mimport\u001b[0m \u001b[0maccuracy_score\u001b[0m\u001b[0;34m\u001b[0m\u001b[0;34m\u001b[0m\u001b[0m\n\u001b[0;32m----> 2\u001b[0;31m \u001b[0maccuracy\u001b[0m \u001b[0;34m=\u001b[0m \u001b[0maccuracy_score\u001b[0m\u001b[0;34m(\u001b[0m\u001b[0my_test\u001b[0m\u001b[0;34m,\u001b[0m \u001b[0my_pred\u001b[0m\u001b[0;34m)\u001b[0m\u001b[0;34m\u001b[0m\u001b[0;34m\u001b[0m\u001b[0m\n\u001b[0m\u001b[1;32m      3\u001b[0m \u001b[0mprint\u001b[0m\u001b[0;34m(\u001b[0m\u001b[0;34mf'Accuracy: {accuracy}'\u001b[0m\u001b[0;34m)\u001b[0m\u001b[0;34m\u001b[0m\u001b[0;34m\u001b[0m\u001b[0m\n",
            "\u001b[0;32m/usr/local/lib/python3.10/dist-packages/sklearn/utils/_param_validation.py\u001b[0m in \u001b[0;36mwrapper\u001b[0;34m(*args, **kwargs)\u001b[0m\n\u001b[1;32m    190\u001b[0m \u001b[0;34m\u001b[0m\u001b[0m\n\u001b[1;32m    191\u001b[0m             \u001b[0;32mtry\u001b[0m\u001b[0;34m:\u001b[0m\u001b[0;34m\u001b[0m\u001b[0;34m\u001b[0m\u001b[0m\n\u001b[0;32m--> 192\u001b[0;31m                 \u001b[0;32mreturn\u001b[0m \u001b[0mfunc\u001b[0m\u001b[0;34m(\u001b[0m\u001b[0;34m*\u001b[0m\u001b[0margs\u001b[0m\u001b[0;34m,\u001b[0m \u001b[0;34m**\u001b[0m\u001b[0mkwargs\u001b[0m\u001b[0;34m)\u001b[0m\u001b[0;34m\u001b[0m\u001b[0;34m\u001b[0m\u001b[0m\n\u001b[0m\u001b[1;32m    193\u001b[0m             \u001b[0;32mexcept\u001b[0m \u001b[0mInvalidParameterError\u001b[0m \u001b[0;32mas\u001b[0m \u001b[0me\u001b[0m\u001b[0;34m:\u001b[0m\u001b[0;34m\u001b[0m\u001b[0;34m\u001b[0m\u001b[0m\n\u001b[1;32m    194\u001b[0m                 \u001b[0;31m# When the function is just a wrapper around an estimator, we allow\u001b[0m\u001b[0;34m\u001b[0m\u001b[0;34m\u001b[0m\u001b[0m\n",
            "\u001b[0;32m/usr/local/lib/python3.10/dist-packages/sklearn/metrics/_classification.py\u001b[0m in \u001b[0;36maccuracy_score\u001b[0;34m(y_true, y_pred, normalize, sample_weight)\u001b[0m\n\u001b[1;32m    219\u001b[0m \u001b[0;34m\u001b[0m\u001b[0m\n\u001b[1;32m    220\u001b[0m     \u001b[0;31m# Compute accuracy for each possible representation\u001b[0m\u001b[0;34m\u001b[0m\u001b[0;34m\u001b[0m\u001b[0m\n\u001b[0;32m--> 221\u001b[0;31m     \u001b[0my_type\u001b[0m\u001b[0;34m,\u001b[0m \u001b[0my_true\u001b[0m\u001b[0;34m,\u001b[0m \u001b[0my_pred\u001b[0m \u001b[0;34m=\u001b[0m \u001b[0m_check_targets\u001b[0m\u001b[0;34m(\u001b[0m\u001b[0my_true\u001b[0m\u001b[0;34m,\u001b[0m \u001b[0my_pred\u001b[0m\u001b[0;34m)\u001b[0m\u001b[0;34m\u001b[0m\u001b[0;34m\u001b[0m\u001b[0m\n\u001b[0m\u001b[1;32m    222\u001b[0m     \u001b[0mcheck_consistent_length\u001b[0m\u001b[0;34m(\u001b[0m\u001b[0my_true\u001b[0m\u001b[0;34m,\u001b[0m \u001b[0my_pred\u001b[0m\u001b[0;34m,\u001b[0m \u001b[0msample_weight\u001b[0m\u001b[0;34m)\u001b[0m\u001b[0;34m\u001b[0m\u001b[0;34m\u001b[0m\u001b[0m\n\u001b[1;32m    223\u001b[0m     \u001b[0;32mif\u001b[0m \u001b[0my_type\u001b[0m\u001b[0;34m.\u001b[0m\u001b[0mstartswith\u001b[0m\u001b[0;34m(\u001b[0m\u001b[0;34m\"multilabel\"\u001b[0m\u001b[0;34m)\u001b[0m\u001b[0;34m:\u001b[0m\u001b[0;34m\u001b[0m\u001b[0;34m\u001b[0m\u001b[0m\n",
            "\u001b[0;32m/usr/local/lib/python3.10/dist-packages/sklearn/metrics/_classification.py\u001b[0m in \u001b[0;36m_check_targets\u001b[0;34m(y_true, y_pred)\u001b[0m\n\u001b[1;32m     93\u001b[0m \u001b[0;34m\u001b[0m\u001b[0m\n\u001b[1;32m     94\u001b[0m     \u001b[0;32mif\u001b[0m \u001b[0mlen\u001b[0m\u001b[0;34m(\u001b[0m\u001b[0my_type\u001b[0m\u001b[0;34m)\u001b[0m \u001b[0;34m>\u001b[0m \u001b[0;36m1\u001b[0m\u001b[0;34m:\u001b[0m\u001b[0;34m\u001b[0m\u001b[0;34m\u001b[0m\u001b[0m\n\u001b[0;32m---> 95\u001b[0;31m         raise ValueError(\n\u001b[0m\u001b[1;32m     96\u001b[0m             \"Classification metrics can't handle a mix of {0} and {1} targets\".format(\n\u001b[1;32m     97\u001b[0m                 \u001b[0mtype_true\u001b[0m\u001b[0;34m,\u001b[0m \u001b[0mtype_pred\u001b[0m\u001b[0;34m\u001b[0m\u001b[0;34m\u001b[0m\u001b[0m\n",
            "\u001b[0;31mValueError\u001b[0m: Classification metrics can't handle a mix of multiclass and continuous targets"
          ]
        }
      ]
    },
    {
      "cell_type": "code",
      "source": [
        "from sklearn.metrics import mean_squared_error\n",
        "\n",
        "# Calculate Mean Squared Error (MSE)\n",
        "mse = mean_squared_error(y_test, y_pred)\n",
        "\n",
        "# Calculate Root Mean Squared Error (RMSE)\n",
        "rmse = np.sqrt(mse)\n",
        "\n",
        "print(f'Mean Squared Error: {mse}')\n",
        "print(f'Root Mean Squared Error: {rmse}')"
      ],
      "metadata": {
        "colab": {
          "base_uri": "https://localhost:8080/"
        },
        "id": "aI4Y4cqXg-Ue",
        "outputId": "d232f979-2dcc-4153-8279-8d13d60dbf1b"
      },
      "execution_count": 20,
      "outputs": [
        {
          "output_type": "stream",
          "name": "stdout",
          "text": [
            "Mean Squared Error: 14331214.06070603\n",
            "Root Mean Squared Error: 3785.6589995278273\n"
          ]
        }
      ]
    },
    {
      "cell_type": "code",
      "source": [
        "plt.plot(y_pred)\n",
        "plt.plot(y_test)\n",
        "plt.show()"
      ],
      "metadata": {
        "colab": {
          "base_uri": "https://localhost:8080/",
          "height": 430
        },
        "id": "L5tWtYeKiRpW",
        "outputId": "f6aa83b7-657d-41b1-95eb-139a657bf2de"
      },
      "execution_count": 21,
      "outputs": [
        {
          "output_type": "display_data",
          "data": {
            "text/plain": [
              "<Figure size 640x480 with 1 Axes>"
            ],
            "image/png": "[encoded data removed]"
          },
          "metadata": {}
        }
      ]
    },
    {
      "cell_type": "code",
      "source": [
        "print('Train Score: ', regressor.score(X_train, y_train))\n",
        "print('Test Score: ', regressor.score(X_test, y_test))"
      ],
      "metadata": {
        "colab": {
          "base_uri": "https://localhost:8080/"
        },
        "id": "y0l3bgIQimQ2",
        "outputId": "3d20d845-3b59-4c27-d595-f4913a54818e"
      },
      "execution_count": 23,
      "outputs": [
        {
          "output_type": "stream",
          "name": "stdout",
          "text": [
            "Train Score:  0.9518737372624644\n",
            "Test Score:  0.9692315291948641\n"
          ]
        }
      ]
    },
    {
      "cell_type": "code",
      "source": [
        "# Calculate residuals\n",
        "residuals = y_test - y_pred\n",
        "\n",
        "# Plot residuals\n",
        "plt.scatter(y_pred, residuals)\n",
        "plt.axhline(y=0, color='r', linestyle='--')\n",
        "plt.title('Residual Plot')\n",
        "plt.xlabel('Predicted Values')\n",
        "plt.ylabel('Residuals')\n",
        "plt.show()"
      ],
      "metadata": {
        "colab": {
          "base_uri": "https://localhost:8080/",
          "height": 472
        },
        "id": "a3Siy5HJjZut",
        "outputId": "4c1a1c5d-6f41-4b31-d042-8e29a5078df4"
      },
      "execution_count": 25,
      "outputs": [
        {
          "output_type": "display_data",
          "data": {
            "text/plain": [
              "<Figure size 640x480 with 1 Axes>"
            ],
            "image/png": "[encoded data removed]"
          },
          "metadata": {}
        }
      ]
    },
    {
      "cell_type": "code",
      "source": [
        "plt.scatter(y_test, y_pred)\n",
        "plt.plot([min(y_test), max(y_test)], [min(y_test), max(y_test)], linestyle='--', color='red', linewidth=2)\n",
        "plt.title('Actual vs Predicted Values')\n",
        "plt.xlabel('Actual Values')\n",
        "plt.ylabel('Predicted Values')\n",
        "plt.show()"
      ],
      "metadata": {
        "colab": {
          "base_uri": "https://localhost:8080/",
          "height": 472
        },
        "id": "qSgDi-s3jyWE",
        "outputId": "7b1c6df5-aa45-4416-8d3a-f917e3b3d567"
      },
      "execution_count": 26,
      "outputs": [
        {
          "output_type": "display_data",
          "data": {
            "text/plain": [
              "<Figure size 640x480 with 1 Axes>"
            ],
            "image/png": "[encoded data removed]"
          },
          "metadata": {}
        }
      ]
    },
    {
      "cell_type": "code",
      "source": [
        "# Assuming you have a trained model with coefficients\n",
        "feature_names = X['age']  # replace with your actual feature names\n",
        "coefficients = model.coef_\n",
        "\n",
        "plt.bar(feature_names, coefficients)\n",
        "plt.title('Feature Importance')\n",
        "plt.xlabel('Features')\n",
        "plt.ylabel('Coefficients')\n",
        "plt.show()"
      ],
      "metadata": {
        "colab": {
          "base_uri": "https://localhost:8080/",
          "height": 263
        },
        "id": "KCXxYhKoj9FR",
        "outputId": "034bdb2f-e69c-4845-ec12-29c51cb7c465"
      },
      "execution_count": 31,
      "outputs": [
        {
          "output_type": "error",
          "ename": "IndexError",
          "evalue": "only integers, slices (`:`), ellipsis (`...`), numpy.newaxis (`None`) and integer or boolean arrays are valid indices",
          "traceback": [
            "\u001b[0;31m---------------------------------------------------------------------------\u001b[0m",
            "\u001b[0;31mIndexError\u001b[0m                                Traceback (most recent call last)",
            "\u001b[0;32m<ipython-input-31-9f8d58ae6a34>\u001b[0m in \u001b[0;36m<cell line: 2>\u001b[0;34m()\u001b[0m\n\u001b[1;32m      1\u001b[0m \u001b[0;31m# Assuming you have a trained model with coefficients\u001b[0m\u001b[0;34m\u001b[0m\u001b[0;34m\u001b[0m\u001b[0m\n\u001b[0;32m----> 2\u001b[0;31m \u001b[0mfeature_names\u001b[0m \u001b[0;34m=\u001b[0m \u001b[0mX\u001b[0m\u001b[0;34m[\u001b[0m\u001b[0;34m'age'\u001b[0m\u001b[0;34m]\u001b[0m  \u001b[0;31m# replace with your actual feature names\u001b[0m\u001b[0;34m\u001b[0m\u001b[0;34m\u001b[0m\u001b[0m\n\u001b[0m\u001b[1;32m      3\u001b[0m \u001b[0mcoefficients\u001b[0m \u001b[0;34m=\u001b[0m \u001b[0mmodel\u001b[0m\u001b[0;34m.\u001b[0m\u001b[0mcoef_\u001b[0m\u001b[0;34m\u001b[0m\u001b[0;34m\u001b[0m\u001b[0m\n\u001b[1;32m      4\u001b[0m \u001b[0;34m\u001b[0m\u001b[0m\n\u001b[1;32m      5\u001b[0m \u001b[0mplt\u001b[0m\u001b[0;34m.\u001b[0m\u001b[0mbar\u001b[0m\u001b[0;34m(\u001b[0m\u001b[0mfeature_names\u001b[0m\u001b[0;34m,\u001b[0m \u001b[0mcoefficients\u001b[0m\u001b[0;34m)\u001b[0m\u001b[0;34m\u001b[0m\u001b[0;34m\u001b[0m\u001b[0m\n",
            "\u001b[0;31mIndexError\u001b[0m: only integers, slices (`:`), ellipsis (`...`), numpy.newaxis (`None`) and integer or boolean arrays are valid indices"
          ]
        }
      ]
    },
    {
      "cell_type": "code",
      "source": [
        "feature_names = X[0] # replace with your actual feature names\n",
        "coefficients = regressor.coef_\n",
        "\n",
        "plt.bar(feature_names, coefficients)\n",
        "plt.title('Feature Importance')\n",
        "plt.xlabel('Features')\n",
        "plt.ylabel('Coefficients')\n",
        "plt.show()"
      ],
      "metadata": {
        "colab": {
          "base_uri": "https://localhost:8080/",
          "height": 472
        },
        "id": "3JbvKzQhlMeK",
        "outputId": "376163a0-4759-47c2-a035-5a5e75932d6e"
      },
      "execution_count": 34,
      "outputs": [
        {
          "output_type": "display_data",
          "data": {
            "text/plain": [
              "<Figure size 640x480 with 1 Axes>"
            ],
            "image/png": "[encoded data removed]"
          },
          "metadata": {}
        }
      ]
    }
  ]
}